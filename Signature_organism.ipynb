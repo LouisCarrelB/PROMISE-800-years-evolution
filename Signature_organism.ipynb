{
 "cells": [
  {
   "cell_type": "markdown",
   "metadata": {},
   "source": [
    "# camemberts"
   ]
  },
  {
   "cell_type": "code",
   "execution_count": 2,
   "metadata": {},
   "outputs": [
    {
     "ename": "FileNotFoundError",
     "evalue": "[Errno 2] No such file or directory: '../DATA/ENSG000000107643/inter/scores_ali_can_updated.csv'",
     "output_type": "error",
     "traceback": [
      "\u001b[0;31m---------------------------------------------------------------------------\u001b[0m",
      "\u001b[0;31mFileNotFoundError\u001b[0m                         Traceback (most recent call last)",
      "\u001b[1;32m/Users/louiscarrel/Documents/Alignement_Project/CODE/Signature_organism.ipynb Cellule 2\u001b[0m line \u001b[0;36m9\n\u001b[1;32m      <a href='vscode-notebook-cell:/Users/louiscarrel/Documents/Alignement_Project/CODE/Signature_organism.ipynb#W1sZmlsZQ%3D%3D?line=6'>7</a>\u001b[0m file_path_original \u001b[39m=\u001b[39m GENE \u001b[39m+\u001b[39m \u001b[39m\"\u001b[39m\u001b[39minter/scores_ali_can_updated.csv\u001b[39m\u001b[39m\"\u001b[39m\n\u001b[1;32m      <a href='vscode-notebook-cell:/Users/louiscarrel/Documents/Alignement_Project/CODE/Signature_organism.ipynb#W1sZmlsZQ%3D%3D?line=7'>8</a>\u001b[0m file_path_alternative \u001b[39m=\u001b[39m GENE \u001b[39m+\u001b[39m \u001b[39m\"\u001b[39m\u001b[39minter/scores_ali_alt_updated.csv\u001b[39m\u001b[39m\"\u001b[39m\n\u001b[0;32m----> <a href='vscode-notebook-cell:/Users/louiscarrel/Documents/Alignement_Project/CODE/Signature_organism.ipynb#W1sZmlsZQ%3D%3D?line=8'>9</a>\u001b[0m df_original \u001b[39m=\u001b[39m pd\u001b[39m.\u001b[39;49mread_csv(file_path_original)\n\u001b[1;32m     <a href='vscode-notebook-cell:/Users/louiscarrel/Documents/Alignement_Project/CODE/Signature_organism.ipynb#W1sZmlsZQ%3D%3D?line=9'>10</a>\u001b[0m df_alternative \u001b[39m=\u001b[39m pd\u001b[39m.\u001b[39mread_csv(file_path_alternative)\n\u001b[1;32m     <a href='vscode-notebook-cell:/Users/louiscarrel/Documents/Alignement_Project/CODE/Signature_organism.ipynb#W1sZmlsZQ%3D%3D?line=11'>12</a>\u001b[0m counts_alt \u001b[39m=\u001b[39m df_alternative[\u001b[39m'\u001b[39m\u001b[39mRegne\u001b[39m\u001b[39m'\u001b[39m]\u001b[39m.\u001b[39mvalue_counts()\n",
      "File \u001b[0;32m~/anaconda3/envs/bio/lib/python3.12/site-packages/pandas/io/parsers/readers.py:948\u001b[0m, in \u001b[0;36mread_csv\u001b[0;34m(filepath_or_buffer, sep, delimiter, header, names, index_col, usecols, dtype, engine, converters, true_values, false_values, skipinitialspace, skiprows, skipfooter, nrows, na_values, keep_default_na, na_filter, verbose, skip_blank_lines, parse_dates, infer_datetime_format, keep_date_col, date_parser, date_format, dayfirst, cache_dates, iterator, chunksize, compression, thousands, decimal, lineterminator, quotechar, quoting, doublequote, escapechar, comment, encoding, encoding_errors, dialect, on_bad_lines, delim_whitespace, low_memory, memory_map, float_precision, storage_options, dtype_backend)\u001b[0m\n\u001b[1;32m    935\u001b[0m kwds_defaults \u001b[39m=\u001b[39m _refine_defaults_read(\n\u001b[1;32m    936\u001b[0m     dialect,\n\u001b[1;32m    937\u001b[0m     delimiter,\n\u001b[0;32m   (...)\u001b[0m\n\u001b[1;32m    944\u001b[0m     dtype_backend\u001b[39m=\u001b[39mdtype_backend,\n\u001b[1;32m    945\u001b[0m )\n\u001b[1;32m    946\u001b[0m kwds\u001b[39m.\u001b[39mupdate(kwds_defaults)\n\u001b[0;32m--> 948\u001b[0m \u001b[39mreturn\u001b[39;00m _read(filepath_or_buffer, kwds)\n",
      "File \u001b[0;32m~/anaconda3/envs/bio/lib/python3.12/site-packages/pandas/io/parsers/readers.py:611\u001b[0m, in \u001b[0;36m_read\u001b[0;34m(filepath_or_buffer, kwds)\u001b[0m\n\u001b[1;32m    608\u001b[0m _validate_names(kwds\u001b[39m.\u001b[39mget(\u001b[39m\"\u001b[39m\u001b[39mnames\u001b[39m\u001b[39m\"\u001b[39m, \u001b[39mNone\u001b[39;00m))\n\u001b[1;32m    610\u001b[0m \u001b[39m# Create the parser.\u001b[39;00m\n\u001b[0;32m--> 611\u001b[0m parser \u001b[39m=\u001b[39m TextFileReader(filepath_or_buffer, \u001b[39m*\u001b[39;49m\u001b[39m*\u001b[39;49mkwds)\n\u001b[1;32m    613\u001b[0m \u001b[39mif\u001b[39;00m chunksize \u001b[39mor\u001b[39;00m iterator:\n\u001b[1;32m    614\u001b[0m     \u001b[39mreturn\u001b[39;00m parser\n",
      "File \u001b[0;32m~/anaconda3/envs/bio/lib/python3.12/site-packages/pandas/io/parsers/readers.py:1448\u001b[0m, in \u001b[0;36mTextFileReader.__init__\u001b[0;34m(self, f, engine, **kwds)\u001b[0m\n\u001b[1;32m   1445\u001b[0m     \u001b[39mself\u001b[39m\u001b[39m.\u001b[39moptions[\u001b[39m\"\u001b[39m\u001b[39mhas_index_names\u001b[39m\u001b[39m\"\u001b[39m] \u001b[39m=\u001b[39m kwds[\u001b[39m\"\u001b[39m\u001b[39mhas_index_names\u001b[39m\u001b[39m\"\u001b[39m]\n\u001b[1;32m   1447\u001b[0m \u001b[39mself\u001b[39m\u001b[39m.\u001b[39mhandles: IOHandles \u001b[39m|\u001b[39m \u001b[39mNone\u001b[39;00m \u001b[39m=\u001b[39m \u001b[39mNone\u001b[39;00m\n\u001b[0;32m-> 1448\u001b[0m \u001b[39mself\u001b[39m\u001b[39m.\u001b[39m_engine \u001b[39m=\u001b[39m \u001b[39mself\u001b[39;49m\u001b[39m.\u001b[39;49m_make_engine(f, \u001b[39mself\u001b[39;49m\u001b[39m.\u001b[39;49mengine)\n",
      "File \u001b[0;32m~/anaconda3/envs/bio/lib/python3.12/site-packages/pandas/io/parsers/readers.py:1705\u001b[0m, in \u001b[0;36mTextFileReader._make_engine\u001b[0;34m(self, f, engine)\u001b[0m\n\u001b[1;32m   1703\u001b[0m     \u001b[39mif\u001b[39;00m \u001b[39m\"\u001b[39m\u001b[39mb\u001b[39m\u001b[39m\"\u001b[39m \u001b[39mnot\u001b[39;00m \u001b[39min\u001b[39;00m mode:\n\u001b[1;32m   1704\u001b[0m         mode \u001b[39m+\u001b[39m\u001b[39m=\u001b[39m \u001b[39m\"\u001b[39m\u001b[39mb\u001b[39m\u001b[39m\"\u001b[39m\n\u001b[0;32m-> 1705\u001b[0m \u001b[39mself\u001b[39m\u001b[39m.\u001b[39mhandles \u001b[39m=\u001b[39m get_handle(\n\u001b[1;32m   1706\u001b[0m     f,\n\u001b[1;32m   1707\u001b[0m     mode,\n\u001b[1;32m   1708\u001b[0m     encoding\u001b[39m=\u001b[39;49m\u001b[39mself\u001b[39;49m\u001b[39m.\u001b[39;49moptions\u001b[39m.\u001b[39;49mget(\u001b[39m\"\u001b[39;49m\u001b[39mencoding\u001b[39;49m\u001b[39m\"\u001b[39;49m, \u001b[39mNone\u001b[39;49;00m),\n\u001b[1;32m   1709\u001b[0m     compression\u001b[39m=\u001b[39;49m\u001b[39mself\u001b[39;49m\u001b[39m.\u001b[39;49moptions\u001b[39m.\u001b[39;49mget(\u001b[39m\"\u001b[39;49m\u001b[39mcompression\u001b[39;49m\u001b[39m\"\u001b[39;49m, \u001b[39mNone\u001b[39;49;00m),\n\u001b[1;32m   1710\u001b[0m     memory_map\u001b[39m=\u001b[39;49m\u001b[39mself\u001b[39;49m\u001b[39m.\u001b[39;49moptions\u001b[39m.\u001b[39;49mget(\u001b[39m\"\u001b[39;49m\u001b[39mmemory_map\u001b[39;49m\u001b[39m\"\u001b[39;49m, \u001b[39mFalse\u001b[39;49;00m),\n\u001b[1;32m   1711\u001b[0m     is_text\u001b[39m=\u001b[39;49mis_text,\n\u001b[1;32m   1712\u001b[0m     errors\u001b[39m=\u001b[39;49m\u001b[39mself\u001b[39;49m\u001b[39m.\u001b[39;49moptions\u001b[39m.\u001b[39;49mget(\u001b[39m\"\u001b[39;49m\u001b[39mencoding_errors\u001b[39;49m\u001b[39m\"\u001b[39;49m, \u001b[39m\"\u001b[39;49m\u001b[39mstrict\u001b[39;49m\u001b[39m\"\u001b[39;49m),\n\u001b[1;32m   1713\u001b[0m     storage_options\u001b[39m=\u001b[39;49m\u001b[39mself\u001b[39;49m\u001b[39m.\u001b[39;49moptions\u001b[39m.\u001b[39;49mget(\u001b[39m\"\u001b[39;49m\u001b[39mstorage_options\u001b[39;49m\u001b[39m\"\u001b[39;49m, \u001b[39mNone\u001b[39;49;00m),\n\u001b[1;32m   1714\u001b[0m )\n\u001b[1;32m   1715\u001b[0m \u001b[39massert\u001b[39;00m \u001b[39mself\u001b[39m\u001b[39m.\u001b[39mhandles \u001b[39mis\u001b[39;00m \u001b[39mnot\u001b[39;00m \u001b[39mNone\u001b[39;00m\n\u001b[1;32m   1716\u001b[0m f \u001b[39m=\u001b[39m \u001b[39mself\u001b[39m\u001b[39m.\u001b[39mhandles\u001b[39m.\u001b[39mhandle\n",
      "File \u001b[0;32m~/anaconda3/envs/bio/lib/python3.12/site-packages/pandas/io/common.py:863\u001b[0m, in \u001b[0;36mget_handle\u001b[0;34m(path_or_buf, mode, encoding, compression, memory_map, is_text, errors, storage_options)\u001b[0m\n\u001b[1;32m    858\u001b[0m \u001b[39melif\u001b[39;00m \u001b[39misinstance\u001b[39m(handle, \u001b[39mstr\u001b[39m):\n\u001b[1;32m    859\u001b[0m     \u001b[39m# Check whether the filename is to be opened in binary mode.\u001b[39;00m\n\u001b[1;32m    860\u001b[0m     \u001b[39m# Binary mode does not support 'encoding' and 'newline'.\u001b[39;00m\n\u001b[1;32m    861\u001b[0m     \u001b[39mif\u001b[39;00m ioargs\u001b[39m.\u001b[39mencoding \u001b[39mand\u001b[39;00m \u001b[39m\"\u001b[39m\u001b[39mb\u001b[39m\u001b[39m\"\u001b[39m \u001b[39mnot\u001b[39;00m \u001b[39min\u001b[39;00m ioargs\u001b[39m.\u001b[39mmode:\n\u001b[1;32m    862\u001b[0m         \u001b[39m# Encoding\u001b[39;00m\n\u001b[0;32m--> 863\u001b[0m         handle \u001b[39m=\u001b[39m \u001b[39mopen\u001b[39;49m(\n\u001b[1;32m    864\u001b[0m             handle,\n\u001b[1;32m    865\u001b[0m             ioargs\u001b[39m.\u001b[39;49mmode,\n\u001b[1;32m    866\u001b[0m             encoding\u001b[39m=\u001b[39;49mioargs\u001b[39m.\u001b[39;49mencoding,\n\u001b[1;32m    867\u001b[0m             errors\u001b[39m=\u001b[39;49merrors,\n\u001b[1;32m    868\u001b[0m             newline\u001b[39m=\u001b[39;49m\u001b[39m\"\u001b[39;49m\u001b[39m\"\u001b[39;49m,\n\u001b[1;32m    869\u001b[0m         )\n\u001b[1;32m    870\u001b[0m     \u001b[39melse\u001b[39;00m:\n\u001b[1;32m    871\u001b[0m         \u001b[39m# Binary mode\u001b[39;00m\n\u001b[1;32m    872\u001b[0m         handle \u001b[39m=\u001b[39m \u001b[39mopen\u001b[39m(handle, ioargs\u001b[39m.\u001b[39mmode)\n",
      "\u001b[0;31mFileNotFoundError\u001b[0m: [Errno 2] No such file or directory: '../DATA/ENSG000000107643/inter/scores_ali_can_updated.csv'"
     ]
    }
   ],
   "source": [
    "import pandas as pd\n",
    "import matplotlib.pyplot as plt\n",
    "from matplotlib_venn import venn2\n",
    "\n",
    "gene_name = \"ENSG00000107643/\"\n",
    "GENE = \"../DATA/\" + gene_name\n",
    "file_path_original = GENE + \"inter/scores_ali_can_updated.csv\"\n",
    "file_path_alternative = GENE + \"inter/scores_ali_alt_updated.csv\"\n",
    "df_original = pd.read_csv(file_path_original)\n",
    "df_alternative = pd.read_csv(file_path_alternative)\n",
    "\n",
    "counts_alt = df_alternative['Regne'].value_counts()\n",
    "counts_o = df_original['Regne'].value_counts()\n",
    "\n",
    "plt.figure(figsize=(10, 6))\n",
    "colors = plt.cm.Paired(range(len(counts_alt)))\n",
    "wedges, texts, autotexts = plt.pie(\n",
    "    counts_alt, \n",
    "    autopct=lambda pct: '{:.1f}%'.format(pct) if pct > 5 else '',\n",
    "    textprops=dict(color=\"w\"),\n",
    "    colors=colors,\n",
    "    startangle=140,\n",
    ")\n",
    "plt.legend(wedges, counts_alt.index, title=\"Règnes\", loc=\"center left\", bbox_to_anchor=(1, 0, 0.5, 1))\n",
    "plt.title('Proportion de règnes dans alt')\n",
    "plt.show()\n",
    "\n",
    "plt.figure(figsize=(10, 6))\n",
    "colors = plt.cm.Paired(range(len(counts_o)))\n",
    "wedges, texts, autotexts = plt.pie(\n",
    "    counts_o, \n",
    "    autopct=lambda pct: '{:.1f}%'.format(pct) if pct > 5 else '',\n",
    "    textprops=dict(color=\"w\"),\n",
    "    colors=colors,\n",
    "    startangle=140,\n",
    ")\n",
    "plt.legend(wedges, counts_o.index, title=\"Règnes\", loc=\"center left\", bbox_to_anchor=(1, 0, 0.5, 1))\n",
    "plt.title('Proportion de règnes dans can')\n",
    "plt.show()\n",
    "\n",
    "\n",
    "\n",
    "\n",
    "common_classes = set(df_original['Class']).intersection(set(df_alternative['Class']))\n",
    "common_regnes = set(df_original['Regne']).intersection(set(df_alternative['Regne']))\n",
    "\n",
    "\n",
    "venn2(subsets=(len(set(df_original['Class'])) - len(common_classes),\n",
    "               len(set(df_alternative['Class'])) - len(common_classes),\n",
    "               len(common_classes)),\n",
    "      set_labels=('can Embranchements', 'alt Embranchements'))\n",
    "\n",
    "plt.title('Venn Diagram for Embranchement')\n",
    "plt.show()\n",
    "\n",
    "venn2(subsets=(len(set(df_original['Regne'])) - len(common_regnes),\n",
    "               len(set(df_alternative['Regne'])) - len(common_regnes),\n",
    "               len(common_regnes)),\n",
    "      set_labels=('can Regnes', 'alt Regnes'))\n",
    "\n",
    "plt.title('Venn Diagram for Regnes')\n",
    "plt.show()\n",
    "\n",
    "\n",
    "\n",
    "\n"
   ]
  },
  {
   "cell_type": "markdown",
   "metadata": {},
   "source": [
    "# SCATTER PLOT"
   ]
  },
  {
   "cell_type": "markdown",
   "metadata": {},
   "source": [
    "## Class"
   ]
  },
  {
   "cell_type": "code",
   "execution_count": null,
   "metadata": {},
   "outputs": [],
   "source": [
    "\n",
    "num_classes = len(common_classes)\n",
    "num_columns = 3\n",
    "num_rows = -(-num_classes // num_columns)  \n",
    "\n",
    "fig, axs = plt.subplots(num_rows, num_columns, figsize=(15, 5 * num_rows), sharex=True, sharey=True)\n",
    "\n",
    "for i, classe in enumerate(common_classes):\n",
    "    row = i // num_columns\n",
    "    col = i % num_columns\n",
    "\n",
    "    df_original_class = df_original[df_original['Class'] == classe]\n",
    "    df_alternative_class = df_alternative[df_alternative['Class'] == classe]\n",
    "\n",
    "    axs[row, col].scatter(df_original_class['alpha'], df_original_class['beta'], label='Original', alpha=0.5, color='red')\n",
    "    axs[row, col].scatter(df_alternative_class['alpha'], df_alternative_class['beta'], label='Alternative', alpha=0.5, color='blue')\n",
    "\n",
    "    axs[row, col].set_title(f\"Classe {classe}\")\n",
    "\n",
    "# Supprimer les sous-graphiques non utilisés s'il y a un nombre impair de classes\n",
    "if num_classes % num_columns != 0:\n",
    "    for j in range(num_classes % num_columns, num_columns):\n",
    "        fig.delaxes(axs[num_rows - 1, j])\n",
    "\n",
    "fig.suptitle(\"Scores Alpha vs. Beta -  Embranchement communs\")\n",
    "fig.text(0.5, 0.04, \"Score Alpha\", ha=\"center\", va=\"center\")\n",
    "fig.text(0.06, 0.5, \"Score Beta\", ha=\"center\", va=\"center\", rotation=\"vertical\")\n",
    "fig.legend(labels=['Original', 'Alternative'], loc='upper right')\n",
    "\n",
    "# Ajuster l'espacement entre les sous-graphiques\n",
    "plt.tight_layout(rect=[0, 0, 1, 0.95])\n",
    "\n",
    "plt.show()"
   ]
  },
  {
   "cell_type": "markdown",
   "metadata": {},
   "source": [
    "## Regne"
   ]
  },
  {
   "cell_type": "code",
   "execution_count": null,
   "metadata": {},
   "outputs": [],
   "source": [
    "\n",
    "num_regnes = len(common_regnes)\n",
    "num_columns = 3\n",
    "num_rows = -(-num_regnes // num_columns)  \n",
    "\n",
    "fig, axs = plt.subplots(num_rows, num_columns, figsize=(15, 5 * num_rows), sharex=True, sharey=True)\n",
    "\n",
    "for i, classe in enumerate(common_regnes):\n",
    "    row = i // num_columns\n",
    "    col = i % num_columns\n",
    "\n",
    "    df_original_class = df_original[df_original['Regne'] == classe]\n",
    "    df_alternative_class = df_alternative[df_alternative['Regne'] == classe]\n",
    "\n",
    "    axs[row, col].scatter(df_original_class['alpha'], df_original_class['beta'], label='Original', alpha=0.5, color='red')\n",
    "    axs[row, col].scatter(df_alternative_class['alpha'], df_alternative_class['beta'], label='Alternative', alpha=0.5, color='blue')\n",
    "\n",
    "    axs[row, col].set_title(f\"Classe {classe}\")\n",
    "\n",
    "# Supprimer les sous-graphiques non utilisés s'il y a un nombre impair de classes\n",
    "if num_regnes % num_columns != 0:\n",
    "    for j in range(num_regnes % num_columns, num_columns):\n",
    "        fig.delaxes(axs[num_rows - 1, j])\n",
    "\n",
    "fig.suptitle(\"Scores Alpha vs. Beta -  Regne communs\")\n",
    "fig.text(0.5, 0.04, \"Score Alpha\", ha=\"center\", va=\"center\")\n",
    "fig.text(0.06, 0.5, \"Score Beta\", ha=\"center\", va=\"center\", rotation=\"vertical\")\n",
    "fig.legend(labels=['Original', 'Alternative'], loc='upper right')\n",
    "\n",
    "# Ajuster l'espacement entre les sous-graphiques\n",
    "plt.tight_layout(rect=[0, 0, 1, 0.95])\n",
    "\n",
    "plt.show()"
   ]
  },
  {
   "cell_type": "markdown",
   "metadata": {},
   "source": [
    "# BAR PLOT PAR SIGNATURE ET MSA"
   ]
  },
  {
   "cell_type": "markdown",
   "metadata": {},
   "source": [
    "## Class"
   ]
  },
  {
   "cell_type": "code",
   "execution_count": null,
   "metadata": {},
   "outputs": [],
   "source": [
    "fig, (ax1, ax2) = plt.subplots(2, 1, figsize=(12, 10), sharex=True)\n",
    "\n",
    "\n",
    "colors = iter(plt.cm.rainbow_r(np.linspace(0, 1, len(common_classes))))\n",
    "\n",
    "for classe in common_classes:\n",
    "\n",
    "    df_original_class = df_original[df_original['Class'] == classe]\n",
    "    df_alternative_class = df_alternative[df_alternative['Class'] == classe]\n",
    "\n",
    "\n",
    "    color = next(colors)\n",
    "    ax1.hist(df_original_class['alpha'], bins=20, alpha=0.5, color=color, label=f'Original - Classe {classe}')\n",
    "    ax1.hist(df_alternative_class['alpha'], bins=20, alpha=0.5, color=color, label=f'Alternative - Classe {classe}', histtype='step', linestyle='dashed')\n",
    "\n",
    "    ax2.hist(df_original_class['beta'], bins=20, alpha=0.5, color=color, label=f'Original - Classe {classe}')\n",
    "    ax2.hist(df_alternative_class['beta'], bins=20, alpha=0.5, color=color, label=f'Alternative - Classe {classe}', histtype='step', linestyle='dashed')\n",
    "\n",
    "ax1.set_title(\"Bar plot des valeurs Alpha pour chaque Classe (Original vs Alternative)\")\n",
    "ax2.set_title(\"Bar plot des valeurs Beta pour chaque Classe (Original vs Alternative)\")\n",
    "ax2.set_xlabel(\"Valeur Beta\")\n",
    "fig.text(0.06, 0.5, \"Fréquence\", ha=\"center\", va=\"center\", rotation=\"vertical\")  # Label de l'axe y commun\n",
    "\n",
    "# Placer la légende à l'extérieur du graphique\n",
    "ax1.legend(bbox_to_anchor=(1.05, 1), loc='upper left')\n",
    "\n",
    "\n",
    "plt.tight_layout(rect=[0, 0, 1, 0.95])  # Ajuster la mise en page\n",
    "plt.show()"
   ]
  },
  {
   "cell_type": "markdown",
   "metadata": {},
   "source": [
    "## Regnes"
   ]
  },
  {
   "cell_type": "code",
   "execution_count": null,
   "metadata": {},
   "outputs": [],
   "source": [
    "fig, (ax1, ax2) = plt.subplots(2, 1, figsize=(12, 10), sharex=True)\n",
    "\n",
    "\n",
    "colors = iter(plt.cm.rainbow_r(np.linspace(0, 1, len(common_classes))))\n",
    "\n",
    "for classe in common_regnes:\n",
    "\n",
    "    df_original_class = df_original[df_original['Regne'] == classe]\n",
    "    df_alternative_class = df_alternative[df_alternative['Regne'] == classe]\n",
    "\n",
    "    # Tracer les histogrammes pour chaque classe, avec des décalages pour séparer original et alternative\n",
    "    color = next(colors)\n",
    "    ax1.hist(df_original_class['alpha'], bins=20, alpha=0.5, color=color, label=f'Original - Regne {classe}')\n",
    "    ax1.hist(df_alternative_class['alpha'], bins=20, alpha=0.5, color=color, label=f'Alternative - Regne {classe}', histtype='step', linestyle='dashed')\n",
    "\n",
    "    ax2.hist(df_original_class['beta'], bins=20, alpha=0.5, color=color, label=f'Original - Regne {classe}')\n",
    "    ax2.hist(df_alternative_class['beta'], bins=20, alpha=0.5, color=color, label=f'Alternative - Regne {classe}', histtype='step', linestyle='dashed')\n",
    "\n",
    "\n",
    "ax1.set_title(\"Bar plot des valeurs Alpha pour chaque Regne (Original vs Alternative)\")\n",
    "ax2.set_title(\"Bar plot des valeurs Beta pour chaque Regne (Original vs Alternative)\")\n",
    "ax2.set_xlabel(\"Valeur Beta\")\n",
    "fig.text(0.06, 0.5, \"Fréquence\", ha=\"center\", va=\"center\", rotation=\"vertical\")  # Label de l'axe y commun\n",
    "\n",
    "# Placer la légende à l'extérieur du graphique\n",
    "ax1.legend(bbox_to_anchor=(1.05, 1), loc='upper left')\n",
    "\n",
    "\n",
    "plt.tight_layout(rect=[0, 0, 1, 0.95])  # Ajuster la mise en page\n",
    "plt.show()"
   ]
  },
  {
   "cell_type": "markdown",
   "metadata": {},
   "source": [
    "# BAR PLOT PAR SIGNATURE"
   ]
  },
  {
   "cell_type": "code",
   "execution_count": null,
   "metadata": {},
   "outputs": [],
   "source": [
    "# Créer une seule figure pour tous les histogrammes\n",
    "fig, axs = plt.subplots(len(common_classes), 2, figsize=(12, 3 * len(common_classes)), sharex=True)\n",
    "\n",
    "\n",
    "colors = iter(plt.cm.rainbow_r(np.linspace(0, 1, len(common_classes))))\n",
    "\n",
    "for i, classe in enumerate(common_classes):\n",
    "\n",
    "    df_original_class = df_original[df_original['Class'] == classe]\n",
    "    df_alternative_class = df_alternative[df_alternative['Class'] == classe]\n",
    "\n",
    "\n",
    "    color = next(colors)\n",
    "    axs[i, 0].hist(df_original_class['alpha'], bins=20, alpha=0.7, color=color, label=f'Original - Classe {classe}')\n",
    "    axs[i, 1].hist(df_alternative_class['beta'], bins=20, alpha=0.7, color=color, label=f'Alternative - Classe {classe}')\n",
    "\n",
    "\n",
    "    axs[i, 0].set_title(f'Alpha - Classe {classe}')\n",
    "    axs[i, 1].set_title(f'Beta - Classe {classe}')\n",
    "\n",
    "# Ajouter des titres et des légendes à l'extérieur du graphique\n",
    "plt.suptitle(\"Histogrammes des valeurs Alpha et Beta pour chaque Classe\", y=1.02)\n",
    "plt.tight_layout(rect=[0, 0, 1, 0.97])\n",
    "\n",
    "\n",
    "plt.show()"
   ]
  },
  {
   "cell_type": "markdown",
   "metadata": {},
   "source": []
  },
  {
   "cell_type": "code",
   "execution_count": null,
   "metadata": {},
   "outputs": [],
   "source": []
  },
  {
   "cell_type": "code",
   "execution_count": null,
   "metadata": {},
   "outputs": [],
   "source": []
  },
  {
   "cell_type": "code",
   "execution_count": null,
   "metadata": {},
   "outputs": [],
   "source": []
  },
  {
   "cell_type": "code",
   "execution_count": null,
   "metadata": {},
   "outputs": [],
   "source": []
  }
 ],
 "metadata": {
  "kernelspec": {
   "display_name": "Python 3",
   "language": "python",
   "name": "python3"
  },
  "language_info": {
   "codemirror_mode": {
    "name": "ipython",
    "version": 3
   },
   "file_extension": ".py",
   "mimetype": "text/x-python",
   "name": "python",
   "nbconvert_exporter": "python",
   "pygments_lexer": "ipython3",
   "version": "3.12.2"
  }
 },
 "nbformat": 4,
 "nbformat_minor": 2
}
